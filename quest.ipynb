{
 "cells": [
  {
   "cell_type": "markdown",
   "metadata": {},
   "source": [
    "<h1 style=\"color: #00BFFF;\">Portfolio Analysis: Python Challenge</h1>\n",
    "\n",
    "---\n",
    "\n",
    "**This challenge** represents a practical tech assignment designed to test your skills in portfolio analysis. Portfolio analysis is a systematic way to evaluate investment portfolios to optimize asset allocation and management. It involves a variety of financial metrics and visualizations to assess the performance and risk of different financial assets.\n",
    "\n",
    "- In this exercise, you will be required to perform a series of calculations and create visualizations to analyze a set of financial assets.\n",
    "\n",
    "- Your task is to develop the necessary code to accomplish each of these tasks effectively.\n",
    "\n",
    "- This challenge is an opportunity to demonstrate your ability to apply Python programming skills in a real-world financial context."
   ]
  },
  {
   "cell_type": "markdown",
   "metadata": {},
   "source": [
    "<h2 style=\"color: #00BFFF;\">Instructions:</h2>\n",
    "\n",
    "- **Collaboration**: You are working in alone, so collaborate to create a comprehensive `README` file that outlines your project, methodologies, and findings.\n",
    "- **Presentation**: Prepare and deliver a presentation that summarizes your analysis, demonstrating the depth and breadth of your work.\n",
    "- **Python scripts**: You can use the this notebook or the `EDA_template` as template for your findings, but you'll have to deliver a different notebook to GitHub.\n",
    "- **Extended Analysis**: Dive deeper into the data to uncover additional insights. Push the boundaries of your analysis to explore complex interactions within the portfolio."
   ]
  },
  {
   "cell_type": "markdown",
   "metadata": {},
   "source": [
    "<h1 style=\"color: #00BFFF;\">Libraries</h1>"
   ]
  },
  {
   "cell_type": "code",
   "execution_count": 1,
   "metadata": {},
   "outputs": [],
   "source": [
    "# Libraries 📚\n",
    "import pandas as pd\n",
    "import numpy as np \n",
    "import matplotlib.pyplot as plt\n",
    "import seaborn as sns"
   ]
  },
  {
   "cell_type": "markdown",
   "metadata": {},
   "source": [
    "<h1 style=\"color: #00BFFF;\">Exercise 1: Data Loading and Price Charting</h1>\n",
    "\n",
    "---\n",
    "\n",
    "You are tasked with loading and analyzing financial data, which is foundational for effective portfolio management. Begin by loading the file named `asset_price_data.csv`, containing essential pricing information for various financial assets.\n",
    "\n",
    "Post data loading, your objective is to visualize this data through a time series graph.The integrity of your analysis depends heavily on your ability to visualize trends accurately while ensuring all asset price series begin at a uniform value."
   ]
  },
  {
   "cell_type": "markdown",
   "metadata": {},
   "source": [
    "<h3 style=\"color: #008080;\">Data Loading</h3>"
   ]
  },
  {
   "cell_type": "code",
   "execution_count": 2,
   "metadata": {},
   "outputs": [
    {
     "data": {
      "text/html": [
       "<div>\n",
       "<style scoped>\n",
       "    .dataframe tbody tr th:only-of-type {\n",
       "        vertical-align: middle;\n",
       "    }\n",
       "\n",
       "    .dataframe tbody tr th {\n",
       "        vertical-align: top;\n",
       "    }\n",
       "\n",
       "    .dataframe thead th {\n",
       "        text-align: right;\n",
       "    }\n",
       "</style>\n",
       "<table border=\"1\" class=\"dataframe\">\n",
       "  <thead>\n",
       "    <tr style=\"text-align: right;\">\n",
       "      <th></th>\n",
       "      <th>date</th>\n",
       "      <th>Asset1</th>\n",
       "      <th>Asset2</th>\n",
       "      <th>Asset3</th>\n",
       "      <th>Asset4</th>\n",
       "      <th>Asset5</th>\n",
       "    </tr>\n",
       "  </thead>\n",
       "  <tbody>\n",
       "    <tr>\n",
       "      <th>0</th>\n",
       "      <td>2019-01-02</td>\n",
       "      <td>231.5061</td>\n",
       "      <td>55.875</td>\n",
       "      <td>25.649222</td>\n",
       "      <td>302.93</td>\n",
       "      <td>50.89</td>\n",
       "    </tr>\n",
       "    <tr>\n",
       "      <th>1</th>\n",
       "      <td>2019-01-03</td>\n",
       "      <td>231.0356</td>\n",
       "      <td>54.977</td>\n",
       "      <td>25.503047</td>\n",
       "      <td>302.11</td>\n",
       "      <td>50.41</td>\n",
       "    </tr>\n",
       "    <tr>\n",
       "      <th>2</th>\n",
       "      <td>2019-01-04</td>\n",
       "      <td>230.4026</td>\n",
       "      <td>56.129</td>\n",
       "      <td>26.147133</td>\n",
       "      <td>301.77</td>\n",
       "      <td>51.38</td>\n",
       "    </tr>\n",
       "    <tr>\n",
       "      <th>3</th>\n",
       "      <td>2019-01-07</td>\n",
       "      <td>230.0543</td>\n",
       "      <td>56.838</td>\n",
       "      <td>25.955277</td>\n",
       "      <td>302.33</td>\n",
       "      <td>52.14</td>\n",
       "    </tr>\n",
       "    <tr>\n",
       "      <th>4</th>\n",
       "      <td>2019-01-08</td>\n",
       "      <td>229.7012</td>\n",
       "      <td>56.895</td>\n",
       "      <td>26.137997</td>\n",
       "      <td>303.42</td>\n",
       "      <td>52.13</td>\n",
       "    </tr>\n",
       "  </tbody>\n",
       "</table>\n",
       "</div>"
      ],
      "text/plain": [
       "         date    Asset1  Asset2     Asset3  Asset4  Asset5\n",
       "0  2019-01-02  231.5061  55.875  25.649222  302.93   50.89\n",
       "1  2019-01-03  231.0356  54.977  25.503047  302.11   50.41\n",
       "2  2019-01-04  230.4026  56.129  26.147133  301.77   51.38\n",
       "3  2019-01-07  230.0543  56.838  25.955277  302.33   52.14\n",
       "4  2019-01-08  229.7012  56.895  26.137997  303.42   52.13"
      ]
     },
     "execution_count": 2,
     "metadata": {},
     "output_type": "execute_result"
    }
   ],
   "source": [
    "df = pd.read_csv('asset_price_data.csv')\n",
    "df.head(5)"
   ]
  },
  {
   "cell_type": "code",
   "execution_count": 3,
   "metadata": {},
   "outputs": [
    {
     "data": {
      "text/html": [
       "<div>\n",
       "<style scoped>\n",
       "    .dataframe tbody tr th:only-of-type {\n",
       "        vertical-align: middle;\n",
       "    }\n",
       "\n",
       "    .dataframe tbody tr th {\n",
       "        vertical-align: top;\n",
       "    }\n",
       "\n",
       "    .dataframe thead th {\n",
       "        text-align: right;\n",
       "    }\n",
       "</style>\n",
       "<table border=\"1\" class=\"dataframe\">\n",
       "  <thead>\n",
       "    <tr style=\"text-align: right;\">\n",
       "      <th></th>\n",
       "      <th>Name</th>\n",
       "      <th>Family</th>\n",
       "    </tr>\n",
       "  </thead>\n",
       "  <tbody>\n",
       "    <tr>\n",
       "      <th>0</th>\n",
       "      <td>Asset1</td>\n",
       "      <td>Fixed Income</td>\n",
       "    </tr>\n",
       "    <tr>\n",
       "      <th>1</th>\n",
       "      <td>Asset2</td>\n",
       "      <td>Fixed Income</td>\n",
       "    </tr>\n",
       "    <tr>\n",
       "      <th>2</th>\n",
       "      <td>Asset3</td>\n",
       "      <td>Equity</td>\n",
       "    </tr>\n",
       "    <tr>\n",
       "      <th>3</th>\n",
       "      <td>Asset4</td>\n",
       "      <td>Equity</td>\n",
       "    </tr>\n",
       "    <tr>\n",
       "      <th>4</th>\n",
       "      <td>Asset5</td>\n",
       "      <td>Alternative</td>\n",
       "    </tr>\n",
       "  </tbody>\n",
       "</table>\n",
       "</div>"
      ],
      "text/plain": [
       "     Name        Family\n",
       "0  Asset1  Fixed Income\n",
       "1  Asset2  Fixed Income\n",
       "2  Asset3        Equity\n",
       "3  Asset4        Equity\n",
       "4  Asset5   Alternative"
      ]
     },
     "execution_count": 3,
     "metadata": {},
     "output_type": "execute_result"
    }
   ],
   "source": [
    "df_info = pd.read_csv('asset_information_data.csv')\n",
    "df_info"
   ]
  },
  {
   "cell_type": "code",
   "execution_count": 4,
   "metadata": {},
   "outputs": [
    {
     "data": {
      "text/plain": [
       "(783, 6)"
      ]
     },
     "execution_count": 4,
     "metadata": {},
     "output_type": "execute_result"
    }
   ],
   "source": [
    "df.shape"
   ]
  },
  {
   "cell_type": "code",
   "execution_count": 5,
   "metadata": {},
   "outputs": [
    {
     "data": {
      "text/plain": [
       "date       object\n",
       "Asset1    float64\n",
       "Asset2    float64\n",
       "Asset3    float64\n",
       "Asset4    float64\n",
       "Asset5    float64\n",
       "dtype: object"
      ]
     },
     "execution_count": 5,
     "metadata": {},
     "output_type": "execute_result"
    }
   ],
   "source": [
    "df.dtypes"
   ]
  },
  {
   "cell_type": "code",
   "execution_count": 6,
   "metadata": {},
   "outputs": [
    {
     "data": {
      "text/html": [
       "<div>\n",
       "<style scoped>\n",
       "    .dataframe tbody tr th:only-of-type {\n",
       "        vertical-align: middle;\n",
       "    }\n",
       "\n",
       "    .dataframe tbody tr th {\n",
       "        vertical-align: top;\n",
       "    }\n",
       "\n",
       "    .dataframe thead th {\n",
       "        text-align: right;\n",
       "    }\n",
       "</style>\n",
       "<table border=\"1\" class=\"dataframe\">\n",
       "  <thead>\n",
       "    <tr style=\"text-align: right;\">\n",
       "      <th></th>\n",
       "      <th>date</th>\n",
       "      <th>Asset1</th>\n",
       "      <th>Asset2</th>\n",
       "      <th>Asset3</th>\n",
       "      <th>Asset4</th>\n",
       "      <th>Asset5</th>\n",
       "    </tr>\n",
       "  </thead>\n",
       "  <tbody>\n",
       "    <tr>\n",
       "      <th>43</th>\n",
       "      <td>2019-03-04</td>\n",
       "      <td>232.6784</td>\n",
       "      <td>62.158</td>\n",
       "      <td>28.389673</td>\n",
       "      <td>313.51</td>\n",
       "      <td>54.360</td>\n",
       "    </tr>\n",
       "    <tr>\n",
       "      <th>773</th>\n",
       "      <td>2021-12-20</td>\n",
       "      <td>252.9382</td>\n",
       "      <td>98.910</td>\n",
       "      <td>37.400000</td>\n",
       "      <td>342.12</td>\n",
       "      <td>66.600</td>\n",
       "    </tr>\n",
       "    <tr>\n",
       "      <th>768</th>\n",
       "      <td>2021-12-13</td>\n",
       "      <td>253.7250</td>\n",
       "      <td>101.977</td>\n",
       "      <td>37.830000</td>\n",
       "      <td>342.30</td>\n",
       "      <td>67.950</td>\n",
       "    </tr>\n",
       "    <tr>\n",
       "      <th>582</th>\n",
       "      <td>2021-03-26</td>\n",
       "      <td>252.8856</td>\n",
       "      <td>85.863</td>\n",
       "      <td>32.975796</td>\n",
       "      <td>339.30</td>\n",
       "      <td>58.270</td>\n",
       "    </tr>\n",
       "    <tr>\n",
       "      <th>60</th>\n",
       "      <td>2019-03-27</td>\n",
       "      <td>237.1800</td>\n",
       "      <td>62.258</td>\n",
       "      <td>29.022593</td>\n",
       "      <td>314.94</td>\n",
       "      <td>54.550</td>\n",
       "    </tr>\n",
       "    <tr>\n",
       "      <th>98</th>\n",
       "      <td>2019-05-20</td>\n",
       "      <td>237.1612</td>\n",
       "      <td>63.233</td>\n",
       "      <td>29.470069</td>\n",
       "      <td>317.25</td>\n",
       "      <td>53.430</td>\n",
       "    </tr>\n",
       "    <tr>\n",
       "      <th>532</th>\n",
       "      <td>2021-01-15</td>\n",
       "      <td>257.3475</td>\n",
       "      <td>82.230</td>\n",
       "      <td>31.628817</td>\n",
       "      <td>337.37</td>\n",
       "      <td>54.770</td>\n",
       "    </tr>\n",
       "    <tr>\n",
       "      <th>635</th>\n",
       "      <td>2021-06-09</td>\n",
       "      <td>250.1663</td>\n",
       "      <td>92.274</td>\n",
       "      <td>35.526770</td>\n",
       "      <td>342.92</td>\n",
       "      <td>65.460</td>\n",
       "    </tr>\n",
       "    <tr>\n",
       "      <th>50</th>\n",
       "      <td>2019-03-13</td>\n",
       "      <td>234.3044</td>\n",
       "      <td>62.623</td>\n",
       "      <td>28.678614</td>\n",
       "      <td>313.66</td>\n",
       "      <td>54.730</td>\n",
       "    </tr>\n",
       "    <tr>\n",
       "      <th>404</th>\n",
       "      <td>2020-07-21</td>\n",
       "      <td>252.3829</td>\n",
       "      <td>71.633</td>\n",
       "      <td>30.324915</td>\n",
       "      <td>320.36</td>\n",
       "      <td>45.675</td>\n",
       "    </tr>\n",
       "  </tbody>\n",
       "</table>\n",
       "</div>"
      ],
      "text/plain": [
       "           date    Asset1   Asset2     Asset3  Asset4  Asset5\n",
       "43   2019-03-04  232.6784   62.158  28.389673  313.51  54.360\n",
       "773  2021-12-20  252.9382   98.910  37.400000  342.12  66.600\n",
       "768  2021-12-13  253.7250  101.977  37.830000  342.30  67.950\n",
       "582  2021-03-26  252.8856   85.863  32.975796  339.30  58.270\n",
       "60   2019-03-27  237.1800   62.258  29.022593  314.94  54.550\n",
       "98   2019-05-20  237.1612   63.233  29.470069  317.25  53.430\n",
       "532  2021-01-15  257.3475   82.230  31.628817  337.37  54.770\n",
       "635  2021-06-09  250.1663   92.274  35.526770  342.92  65.460\n",
       "50   2019-03-13  234.3044   62.623  28.678614  313.66  54.730\n",
       "404  2020-07-21  252.3829   71.633  30.324915  320.36  45.675"
      ]
     },
     "execution_count": 6,
     "metadata": {},
     "output_type": "execute_result"
    }
   ],
   "source": [
    "df.sample(10)"
   ]
  },
  {
   "cell_type": "code",
   "execution_count": 7,
   "metadata": {},
   "outputs": [
    {
     "data": {
      "text/plain": [
       "date       0\n",
       "Asset1    13\n",
       "Asset2    13\n",
       "Asset3    13\n",
       "Asset4    49\n",
       "Asset5    20\n",
       "dtype: int64"
      ]
     },
     "execution_count": 7,
     "metadata": {},
     "output_type": "execute_result"
    }
   ],
   "source": [
    "df.isna().sum()"
   ]
  },
  {
   "cell_type": "code",
   "execution_count": null,
   "metadata": {},
   "outputs": [],
   "source": []
  },
  {
   "cell_type": "markdown",
   "metadata": {},
   "source": [
    "<h1 style=\"color: #00BFFF;\">Exercise 2: Daily Percentage Returns</h1>\n",
    "\n",
    "---\n",
    "\n",
    "You are required to calculate the daily percentage returns for each financial asset. Utilize this data to accomplish the following:\n",
    "- Calculate the correlation matrix for the five assets.\n",
    "\n",
    "- Create a scatter plot comparing the returns of two specific assets."
   ]
  },
  {
   "cell_type": "markdown",
   "metadata": {},
   "source": [
    "<h2 style=\"color: #008080;\">Daily Returns Calculation.</h2>"
   ]
  },
  {
   "cell_type": "code",
   "execution_count": 8,
   "metadata": {},
   "outputs": [
    {
     "name": "stderr",
     "output_type": "stream",
     "text": [
      "/var/folders/bs/hzz4qdm57z9cct0t_9rdynfr0000gn/T/ipykernel_2780/2370293976.py:5: FutureWarning: The default fill_method='pad' in Series.pct_change is deprecated and will be removed in a future version. Either fill in any non-leading NA values prior to calling pct_change or specify 'fill_method=None' to not fill NA values.\n",
      "  df_returns[f'{asset}_Return'] = df[asset].pct_change() * 100 #Calculate the percentage change.\n",
      "/var/folders/bs/hzz4qdm57z9cct0t_9rdynfr0000gn/T/ipykernel_2780/2370293976.py:5: FutureWarning: The default fill_method='pad' in Series.pct_change is deprecated and will be removed in a future version. Either fill in any non-leading NA values prior to calling pct_change or specify 'fill_method=None' to not fill NA values.\n",
      "  df_returns[f'{asset}_Return'] = df[asset].pct_change() * 100 #Calculate the percentage change.\n",
      "/var/folders/bs/hzz4qdm57z9cct0t_9rdynfr0000gn/T/ipykernel_2780/2370293976.py:5: FutureWarning: The default fill_method='pad' in Series.pct_change is deprecated and will be removed in a future version. Either fill in any non-leading NA values prior to calling pct_change or specify 'fill_method=None' to not fill NA values.\n",
      "  df_returns[f'{asset}_Return'] = df[asset].pct_change() * 100 #Calculate the percentage change.\n",
      "/var/folders/bs/hzz4qdm57z9cct0t_9rdynfr0000gn/T/ipykernel_2780/2370293976.py:5: FutureWarning: The default fill_method='pad' in Series.pct_change is deprecated and will be removed in a future version. Either fill in any non-leading NA values prior to calling pct_change or specify 'fill_method=None' to not fill NA values.\n",
      "  df_returns[f'{asset}_Return'] = df[asset].pct_change() * 100 #Calculate the percentage change.\n",
      "/var/folders/bs/hzz4qdm57z9cct0t_9rdynfr0000gn/T/ipykernel_2780/2370293976.py:5: FutureWarning: The default fill_method='pad' in Series.pct_change is deprecated and will be removed in a future version. Either fill in any non-leading NA values prior to calling pct_change or specify 'fill_method=None' to not fill NA values.\n",
      "  df_returns[f'{asset}_Return'] = df[asset].pct_change() * 100 #Calculate the percentage change.\n"
     ]
    },
    {
     "data": {
      "text/html": [
       "<div>\n",
       "<style scoped>\n",
       "    .dataframe tbody tr th:only-of-type {\n",
       "        vertical-align: middle;\n",
       "    }\n",
       "\n",
       "    .dataframe tbody tr th {\n",
       "        vertical-align: top;\n",
       "    }\n",
       "\n",
       "    .dataframe thead th {\n",
       "        text-align: right;\n",
       "    }\n",
       "</style>\n",
       "<table border=\"1\" class=\"dataframe\">\n",
       "  <thead>\n",
       "    <tr style=\"text-align: right;\">\n",
       "      <th></th>\n",
       "      <th>date</th>\n",
       "      <th>Asset1</th>\n",
       "      <th>Asset2</th>\n",
       "      <th>Asset3</th>\n",
       "      <th>Asset4</th>\n",
       "      <th>Asset5</th>\n",
       "      <th>Asset1_Return</th>\n",
       "      <th>Asset2_Return</th>\n",
       "      <th>Asset3_Return</th>\n",
       "      <th>Asset4_Return</th>\n",
       "      <th>Asset5_Return</th>\n",
       "    </tr>\n",
       "  </thead>\n",
       "  <tbody>\n",
       "    <tr>\n",
       "      <th>0</th>\n",
       "      <td>2019-01-02</td>\n",
       "      <td>231.5061</td>\n",
       "      <td>55.875</td>\n",
       "      <td>25.649222</td>\n",
       "      <td>302.93</td>\n",
       "      <td>50.89</td>\n",
       "      <td>NaN</td>\n",
       "      <td>NaN</td>\n",
       "      <td>NaN</td>\n",
       "      <td>NaN</td>\n",
       "      <td>NaN</td>\n",
       "    </tr>\n",
       "    <tr>\n",
       "      <th>1</th>\n",
       "      <td>2019-01-03</td>\n",
       "      <td>231.0356</td>\n",
       "      <td>54.977</td>\n",
       "      <td>25.503047</td>\n",
       "      <td>302.11</td>\n",
       "      <td>50.41</td>\n",
       "      <td>-0.203234</td>\n",
       "      <td>-1.607159</td>\n",
       "      <td>-0.569902</td>\n",
       "      <td>-0.270690</td>\n",
       "      <td>-0.943211</td>\n",
       "    </tr>\n",
       "    <tr>\n",
       "      <th>2</th>\n",
       "      <td>2019-01-04</td>\n",
       "      <td>230.4026</td>\n",
       "      <td>56.129</td>\n",
       "      <td>26.147133</td>\n",
       "      <td>301.77</td>\n",
       "      <td>51.38</td>\n",
       "      <td>-0.273984</td>\n",
       "      <td>2.095422</td>\n",
       "      <td>2.525524</td>\n",
       "      <td>-0.112542</td>\n",
       "      <td>1.924221</td>\n",
       "    </tr>\n",
       "    <tr>\n",
       "      <th>3</th>\n",
       "      <td>2019-01-07</td>\n",
       "      <td>230.0543</td>\n",
       "      <td>56.838</td>\n",
       "      <td>25.955277</td>\n",
       "      <td>302.33</td>\n",
       "      <td>52.14</td>\n",
       "      <td>-0.151170</td>\n",
       "      <td>1.263162</td>\n",
       "      <td>-0.733753</td>\n",
       "      <td>0.185572</td>\n",
       "      <td>1.479175</td>\n",
       "    </tr>\n",
       "    <tr>\n",
       "      <th>4</th>\n",
       "      <td>2019-01-08</td>\n",
       "      <td>229.7012</td>\n",
       "      <td>56.895</td>\n",
       "      <td>26.137997</td>\n",
       "      <td>303.42</td>\n",
       "      <td>52.13</td>\n",
       "      <td>-0.153486</td>\n",
       "      <td>0.100285</td>\n",
       "      <td>0.703977</td>\n",
       "      <td>0.360533</td>\n",
       "      <td>-0.019179</td>\n",
       "    </tr>\n",
       "  </tbody>\n",
       "</table>\n",
       "</div>"
      ],
      "text/plain": [
       "         date    Asset1  Asset2     Asset3  Asset4  Asset5  Asset1_Return  \\\n",
       "0  2019-01-02  231.5061  55.875  25.649222  302.93   50.89            NaN   \n",
       "1  2019-01-03  231.0356  54.977  25.503047  302.11   50.41      -0.203234   \n",
       "2  2019-01-04  230.4026  56.129  26.147133  301.77   51.38      -0.273984   \n",
       "3  2019-01-07  230.0543  56.838  25.955277  302.33   52.14      -0.151170   \n",
       "4  2019-01-08  229.7012  56.895  26.137997  303.42   52.13      -0.153486   \n",
       "\n",
       "   Asset2_Return  Asset3_Return  Asset4_Return  Asset5_Return  \n",
       "0            NaN            NaN            NaN            NaN  \n",
       "1      -1.607159      -0.569902      -0.270690      -0.943211  \n",
       "2       2.095422       2.525524      -0.112542       1.924221  \n",
       "3       1.263162      -0.733753       0.185572       1.479175  \n",
       "4       0.100285       0.703977       0.360533      -0.019179  "
      ]
     },
     "execution_count": 8,
     "metadata": {},
     "output_type": "execute_result"
    }
   ],
   "source": [
    "# Calculate daily percentage returns for each asset\n",
    "df_returns = df.copy()\n",
    "assets = ['Asset1', 'Asset2', 'Asset3', 'Asset4', 'Asset5']\n",
    "for asset in assets:\n",
    "    df_returns[f'{asset}_Return'] = df[asset].pct_change() * 100 #Calculate the percentage change. \n",
    "\n",
    "df_returns.head()"
   ]
  },
  {
   "cell_type": "markdown",
   "metadata": {},
   "source": [
    "<h2 style=\"color: #008080;\">Correlation Matrix Calculation.</h2>"
   ]
  },
  {
   "cell_type": "code",
   "execution_count": 9,
   "metadata": {},
   "outputs": [
    {
     "data": {
      "text/html": [
       "<div>\n",
       "<style scoped>\n",
       "    .dataframe tbody tr th:only-of-type {\n",
       "        vertical-align: middle;\n",
       "    }\n",
       "\n",
       "    .dataframe tbody tr th {\n",
       "        vertical-align: top;\n",
       "    }\n",
       "\n",
       "    .dataframe thead th {\n",
       "        text-align: right;\n",
       "    }\n",
       "</style>\n",
       "<table border=\"1\" class=\"dataframe\">\n",
       "  <thead>\n",
       "    <tr style=\"text-align: right;\">\n",
       "      <th></th>\n",
       "      <th>Asset1_Return</th>\n",
       "      <th>Asset2_Return</th>\n",
       "      <th>Asset3_Return</th>\n",
       "      <th>Asset4_Return</th>\n",
       "      <th>Asset5_Return</th>\n",
       "    </tr>\n",
       "  </thead>\n",
       "  <tbody>\n",
       "    <tr>\n",
       "      <th>Asset1_Return</th>\n",
       "      <td>1.000000</td>\n",
       "      <td>-0.088341</td>\n",
       "      <td>-0.061253</td>\n",
       "      <td>0.102252</td>\n",
       "      <td>-0.106484</td>\n",
       "    </tr>\n",
       "    <tr>\n",
       "      <th>Asset2_Return</th>\n",
       "      <td>-0.088341</td>\n",
       "      <td>1.000000</td>\n",
       "      <td>0.852491</td>\n",
       "      <td>0.526634</td>\n",
       "      <td>0.591399</td>\n",
       "    </tr>\n",
       "    <tr>\n",
       "      <th>Asset3_Return</th>\n",
       "      <td>-0.061253</td>\n",
       "      <td>0.852491</td>\n",
       "      <td>1.000000</td>\n",
       "      <td>0.511550</td>\n",
       "      <td>0.557414</td>\n",
       "    </tr>\n",
       "    <tr>\n",
       "      <th>Asset4_Return</th>\n",
       "      <td>0.102252</td>\n",
       "      <td>0.526634</td>\n",
       "      <td>0.511550</td>\n",
       "      <td>1.000000</td>\n",
       "      <td>0.421155</td>\n",
       "    </tr>\n",
       "    <tr>\n",
       "      <th>Asset5_Return</th>\n",
       "      <td>-0.106484</td>\n",
       "      <td>0.591399</td>\n",
       "      <td>0.557414</td>\n",
       "      <td>0.421155</td>\n",
       "      <td>1.000000</td>\n",
       "    </tr>\n",
       "  </tbody>\n",
       "</table>\n",
       "</div>"
      ],
      "text/plain": [
       "               Asset1_Return  Asset2_Return  Asset3_Return  Asset4_Return  \\\n",
       "Asset1_Return       1.000000      -0.088341      -0.061253       0.102252   \n",
       "Asset2_Return      -0.088341       1.000000       0.852491       0.526634   \n",
       "Asset3_Return      -0.061253       0.852491       1.000000       0.511550   \n",
       "Asset4_Return       0.102252       0.526634       0.511550       1.000000   \n",
       "Asset5_Return      -0.106484       0.591399       0.557414       0.421155   \n",
       "\n",
       "               Asset5_Return  \n",
       "Asset1_Return      -0.106484  \n",
       "Asset2_Return       0.591399  \n",
       "Asset3_Return       0.557414  \n",
       "Asset4_Return       0.421155  \n",
       "Asset5_Return       1.000000  "
      ]
     },
     "execution_count": 9,
     "metadata": {},
     "output_type": "execute_result"
    }
   ],
   "source": [
    "# Select only the return columns for correlation analysis\n",
    "return_columns = [f'{asset}_Return' for asset in assets]\n",
    "returns_data = df_returns[return_columns]\n",
    "\n",
    "# Calculate the correlation matrix\n",
    "correlation_matrix = returns_data.corr()\n",
    "\n",
    "correlation_matrix\n"
   ]
  },
  {
   "cell_type": "code",
   "execution_count": 10,
   "metadata": {},
   "outputs": [
    {
     "data": {
      "image/png": "[encoded data removed]",
      "text/plain": [
       "<Figure size 400x400 with 2 Axes>"
      ]
     },
     "metadata": {},
     "output_type": "display_data"
    }
   ],
   "source": [
    "# Setting up the matplotlib figure with an appropriate size\n",
    "plt.figure(figsize=(4, 4))\n",
    "\n",
    "# Drawing the heatmap for the numerical columns\n",
    "sns.heatmap(correlation_matrix, annot=True, cmap=\"coolwarm\")\n",
    "\n",
    "plt.title(\"Correlation Heatmap\")\n",
    "plt.show()"
   ]
  },
  {
   "cell_type": "markdown",
   "metadata": {
    "tags": []
   },
   "source": [
    "<h2 style=\"color: #008080;\">Scatter Plot between the Returns of Two Assets.</h2>"
   ]
  },
  {
   "cell_type": "code",
   "execution_count": 11,
   "metadata": {},
   "outputs": [
    {
     "data": {
      "image/png": "[encoded data removed]",
      "text/plain": [
       "<Figure size 640x480 with 1 Axes>"
      ]
     },
     "metadata": {},
     "output_type": "display_data"
    }
   ],
   "source": [
    "sns.scatterplot(data=df_returns, x='Asset3_Return', y='Asset2_Return')\n",
    "plt.show()"
   ]
  },
  {
   "cell_type": "markdown",
   "metadata": {},
   "source": [
    "<h1 style=\"color: #00BFFF;\">Exercise 3: Portfolio Analysis</h1>\n",
    "\n",
    "---\n",
    "\n",
    "This third exercise focuses on calculating and analyzing the performance of a portfolio. Begin by loading the file named `portfolio_weights.csv`, which contains the daily weights of each asset in the portfolio.\n",
    "\n",
    "To complete the exercise, you will need to perform the following tasks:\n",
    "- Create an area chart of the asset weights.\n",
    "\n",
    "- Plot the historical cumulative returns of the portfolio.\n",
    "\n",
    "- Calculate the annualized return of the portfolio.\n",
    "\n",
    "- Determine the annualized volatility of the portfolio (using an annualization factor of 261 days).\n",
    "\n",
    "- Produce an area chart grouping asset weights by their categories, as detailed in the `asset_information_data.csv`."
   ]
  },
  {
   "cell_type": "markdown",
   "metadata": {
    "tags": []
   },
   "source": [
    "<h2 style=\"color: #008080;\">Area Chart of Asset Weights.</h2>\n"
   ]
  },
  {
   "cell_type": "code",
   "execution_count": 12,
   "metadata": {},
   "outputs": [
    {
     "data": {
      "text/html": [
       "<div>\n",
       "<style scoped>\n",
       "    .dataframe tbody tr th:only-of-type {\n",
       "        vertical-align: middle;\n",
       "    }\n",
       "\n",
       "    .dataframe tbody tr th {\n",
       "        vertical-align: top;\n",
       "    }\n",
       "\n",
       "    .dataframe thead th {\n",
       "        text-align: right;\n",
       "    }\n",
       "</style>\n",
       "<table border=\"1\" class=\"dataframe\">\n",
       "  <thead>\n",
       "    <tr style=\"text-align: right;\">\n",
       "      <th></th>\n",
       "      <th>date</th>\n",
       "      <th>Asset1</th>\n",
       "      <th>Asset2</th>\n",
       "      <th>Asset3</th>\n",
       "      <th>Asset4</th>\n",
       "      <th>Asset5</th>\n",
       "    </tr>\n",
       "  </thead>\n",
       "  <tbody>\n",
       "    <tr>\n",
       "      <th>0</th>\n",
       "      <td>2019-01-02</td>\n",
       "      <td>0.225458</td>\n",
       "      <td>0.116255</td>\n",
       "      <td>0.265003</td>\n",
       "      <td>0.23031</td>\n",
       "      <td>0.162974</td>\n",
       "    </tr>\n",
       "    <tr>\n",
       "      <th>1</th>\n",
       "      <td>2019-01-03</td>\n",
       "      <td>0.225458</td>\n",
       "      <td>0.116255</td>\n",
       "      <td>0.265003</td>\n",
       "      <td>0.23031</td>\n",
       "      <td>0.162974</td>\n",
       "    </tr>\n",
       "    <tr>\n",
       "      <th>2</th>\n",
       "      <td>2019-01-04</td>\n",
       "      <td>0.225458</td>\n",
       "      <td>0.116255</td>\n",
       "      <td>0.265003</td>\n",
       "      <td>0.23031</td>\n",
       "      <td>0.162974</td>\n",
       "    </tr>\n",
       "    <tr>\n",
       "      <th>3</th>\n",
       "      <td>2019-01-07</td>\n",
       "      <td>0.225458</td>\n",
       "      <td>0.116255</td>\n",
       "      <td>0.265003</td>\n",
       "      <td>0.23031</td>\n",
       "      <td>0.162974</td>\n",
       "    </tr>\n",
       "    <tr>\n",
       "      <th>4</th>\n",
       "      <td>2019-01-08</td>\n",
       "      <td>0.225458</td>\n",
       "      <td>0.116255</td>\n",
       "      <td>0.265003</td>\n",
       "      <td>0.23031</td>\n",
       "      <td>0.162974</td>\n",
       "    </tr>\n",
       "  </tbody>\n",
       "</table>\n",
       "</div>"
      ],
      "text/plain": [
       "         date    Asset1    Asset2    Asset3   Asset4    Asset5\n",
       "0  2019-01-02  0.225458  0.116255  0.265003  0.23031  0.162974\n",
       "1  2019-01-03  0.225458  0.116255  0.265003  0.23031  0.162974\n",
       "2  2019-01-04  0.225458  0.116255  0.265003  0.23031  0.162974\n",
       "3  2019-01-07  0.225458  0.116255  0.265003  0.23031  0.162974\n",
       "4  2019-01-08  0.225458  0.116255  0.265003  0.23031  0.162974"
      ]
     },
     "execution_count": 12,
     "metadata": {},
     "output_type": "execute_result"
    }
   ],
   "source": [
    "df1 = pd.read_csv('portfolio_weights.csv')\n",
    "df1.head(5)"
   ]
  },
  {
   "cell_type": "code",
   "execution_count": 13,
   "metadata": {},
   "outputs": [
    {
     "data": {
      "text/html": [
       "<div>\n",
       "<style scoped>\n",
       "    .dataframe tbody tr th:only-of-type {\n",
       "        vertical-align: middle;\n",
       "    }\n",
       "\n",
       "    .dataframe tbody tr th {\n",
       "        vertical-align: top;\n",
       "    }\n",
       "\n",
       "    .dataframe thead th {\n",
       "        text-align: right;\n",
       "    }\n",
       "</style>\n",
       "<table border=\"1\" class=\"dataframe\">\n",
       "  <thead>\n",
       "    <tr style=\"text-align: right;\">\n",
       "      <th></th>\n",
       "      <th>date</th>\n",
       "      <th>Asset1</th>\n",
       "      <th>Asset2</th>\n",
       "      <th>Asset3</th>\n",
       "      <th>Asset4</th>\n",
       "      <th>Asset5</th>\n",
       "      <th>Total</th>\n",
       "    </tr>\n",
       "  </thead>\n",
       "  <tbody>\n",
       "    <tr>\n",
       "      <th>0</th>\n",
       "      <td>2019-01-02</td>\n",
       "      <td>0.225458</td>\n",
       "      <td>0.116255</td>\n",
       "      <td>0.265003</td>\n",
       "      <td>0.23031</td>\n",
       "      <td>0.162974</td>\n",
       "      <td>1.0</td>\n",
       "    </tr>\n",
       "    <tr>\n",
       "      <th>1</th>\n",
       "      <td>2019-01-03</td>\n",
       "      <td>0.225458</td>\n",
       "      <td>0.116255</td>\n",
       "      <td>0.265003</td>\n",
       "      <td>0.23031</td>\n",
       "      <td>0.162974</td>\n",
       "      <td>1.0</td>\n",
       "    </tr>\n",
       "    <tr>\n",
       "      <th>2</th>\n",
       "      <td>2019-01-04</td>\n",
       "      <td>0.225458</td>\n",
       "      <td>0.116255</td>\n",
       "      <td>0.265003</td>\n",
       "      <td>0.23031</td>\n",
       "      <td>0.162974</td>\n",
       "      <td>1.0</td>\n",
       "    </tr>\n",
       "    <tr>\n",
       "      <th>3</th>\n",
       "      <td>2019-01-07</td>\n",
       "      <td>0.225458</td>\n",
       "      <td>0.116255</td>\n",
       "      <td>0.265003</td>\n",
       "      <td>0.23031</td>\n",
       "      <td>0.162974</td>\n",
       "      <td>1.0</td>\n",
       "    </tr>\n",
       "    <tr>\n",
       "      <th>4</th>\n",
       "      <td>2019-01-08</td>\n",
       "      <td>0.225458</td>\n",
       "      <td>0.116255</td>\n",
       "      <td>0.265003</td>\n",
       "      <td>0.23031</td>\n",
       "      <td>0.162974</td>\n",
       "      <td>1.0</td>\n",
       "    </tr>\n",
       "    <tr>\n",
       "      <th>...</th>\n",
       "      <td>...</td>\n",
       "      <td>...</td>\n",
       "      <td>...</td>\n",
       "      <td>...</td>\n",
       "      <td>...</td>\n",
       "      <td>...</td>\n",
       "      <td>...</td>\n",
       "    </tr>\n",
       "    <tr>\n",
       "      <th>778</th>\n",
       "      <td>2021-12-27</td>\n",
       "      <td>0.071307</td>\n",
       "      <td>0.266093</td>\n",
       "      <td>0.168775</td>\n",
       "      <td>0.33547</td>\n",
       "      <td>0.158356</td>\n",
       "      <td>1.0</td>\n",
       "    </tr>\n",
       "    <tr>\n",
       "      <th>779</th>\n",
       "      <td>2021-12-28</td>\n",
       "      <td>0.071307</td>\n",
       "      <td>0.266093</td>\n",
       "      <td>0.168775</td>\n",
       "      <td>0.33547</td>\n",
       "      <td>0.158356</td>\n",
       "      <td>1.0</td>\n",
       "    </tr>\n",
       "    <tr>\n",
       "      <th>780</th>\n",
       "      <td>2021-12-29</td>\n",
       "      <td>0.071307</td>\n",
       "      <td>0.266093</td>\n",
       "      <td>0.168775</td>\n",
       "      <td>0.33547</td>\n",
       "      <td>0.158356</td>\n",
       "      <td>1.0</td>\n",
       "    </tr>\n",
       "    <tr>\n",
       "      <th>781</th>\n",
       "      <td>2021-12-30</td>\n",
       "      <td>0.071307</td>\n",
       "      <td>0.266093</td>\n",
       "      <td>0.168775</td>\n",
       "      <td>0.33547</td>\n",
       "      <td>0.158356</td>\n",
       "      <td>1.0</td>\n",
       "    </tr>\n",
       "    <tr>\n",
       "      <th>782</th>\n",
       "      <td>2021-12-31</td>\n",
       "      <td>0.071307</td>\n",
       "      <td>0.266093</td>\n",
       "      <td>0.168775</td>\n",
       "      <td>0.33547</td>\n",
       "      <td>0.158356</td>\n",
       "      <td>1.0</td>\n",
       "    </tr>\n",
       "  </tbody>\n",
       "</table>\n",
       "<p>783 rows × 7 columns</p>\n",
       "</div>"
      ],
      "text/plain": [
       "           date    Asset1    Asset2    Asset3   Asset4    Asset5  Total\n",
       "0    2019-01-02  0.225458  0.116255  0.265003  0.23031  0.162974    1.0\n",
       "1    2019-01-03  0.225458  0.116255  0.265003  0.23031  0.162974    1.0\n",
       "2    2019-01-04  0.225458  0.116255  0.265003  0.23031  0.162974    1.0\n",
       "3    2019-01-07  0.225458  0.116255  0.265003  0.23031  0.162974    1.0\n",
       "4    2019-01-08  0.225458  0.116255  0.265003  0.23031  0.162974    1.0\n",
       "..          ...       ...       ...       ...      ...       ...    ...\n",
       "778  2021-12-27  0.071307  0.266093  0.168775  0.33547  0.158356    1.0\n",
       "779  2021-12-28  0.071307  0.266093  0.168775  0.33547  0.158356    1.0\n",
       "780  2021-12-29  0.071307  0.266093  0.168775  0.33547  0.158356    1.0\n",
       "781  2021-12-30  0.071307  0.266093  0.168775  0.33547  0.158356    1.0\n",
       "782  2021-12-31  0.071307  0.266093  0.168775  0.33547  0.158356    1.0\n",
       "\n",
       "[783 rows x 7 columns]"
      ]
     },
     "execution_count": 13,
     "metadata": {},
     "output_type": "execute_result"
    }
   ],
   "source": [
    "df1['Total'] = df1.drop(columns=['date']).sum(axis=1)\n",
    "df1"
   ]
  },
  {
   "cell_type": "markdown",
   "metadata": {
    "tags": []
   },
   "source": [
    "<h2 style=\"color: #008080;\">Chart of Historical Cumulative Returns of the Portfolio.</h2>\n"
   ]
  },
  {
   "cell_type": "code",
   "execution_count": null,
   "metadata": {},
   "outputs": [],
   "source": []
  },
  {
   "cell_type": "markdown",
   "metadata": {
    "tags": []
   },
   "source": [
    "<h2 style=\"color: #008080;\">Annualized Return.</h2>\n"
   ]
  },
  {
   "cell_type": "code",
   "execution_count": null,
   "metadata": {},
   "outputs": [],
   "source": []
  },
  {
   "cell_type": "markdown",
   "metadata": {
    "tags": []
   },
   "source": [
    "<h2 style=\"color: #008080;\">Annualized Volatility.</h2>"
   ]
  },
  {
   "cell_type": "code",
   "execution_count": null,
   "metadata": {},
   "outputs": [],
   "source": []
  },
  {
   "cell_type": "markdown",
   "metadata": {
    "tags": []
   },
   "source": [
    "<h2 style=\"color: #008080;\">Area Chart of Asset Weights Grouped by Family.</h2>"
   ]
  },
  {
   "cell_type": "code",
   "execution_count": null,
   "metadata": {},
   "outputs": [],
   "source": []
  }
 ],
 "metadata": {
  "colab": {
   "provenance": [
    {
     "file_id": "1fHXMQvsfUK6jFCwgFlCA_WDoSXI7rzN4",
     "timestamp": 1698662695337
    },
    {
     "file_id": "1OX3IZEGgfyEzu1luFVYojAIp89lVkPmw",
     "timestamp": 1691153287206
    }
   ]
  },
  "kernelspec": {
   "display_name": "base",
   "language": "python",
   "name": "python3"
  },
  "language_info": {
   "codemirror_mode": {
    "name": "ipython",
    "version": 3
   },
   "file_extension": ".py",
   "mimetype": "text/x-python",
   "name": "python",
   "nbconvert_exporter": "python",
   "pygments_lexer": "ipython3",
   "version": "3.12.4"
  }
 },
 "nbformat": 4,
 "nbformat_minor": 4
}
